{
 "cells": [
  {
   "cell_type": "code",
   "execution_count": null,
   "metadata": {},
   "outputs": [],
   "source": [
    "from tkinter import *\n",
    "import sqlite3\n",
    "import pyttsx3\n",
    " \n",
    "# connection to database\n",
    "conn = sqlite3.connect('carbooking.db')\n",
    "c = conn.cursor()\n",
    " \n",
    "no = []\n",
    "clients = []\n",
    " \n",
    "sql = \"SELECT * FROM appointments\"\n",
    "res = c.execute(sql)\n",
    "for r in res:\n",
    "ids = r[0]\n",
    "name = r[1]\n",
    "no.append(ids)\n",
    "clients.append(name)\n",
    " \n",
    "class Application:\n",
    "def __init__(self, windows):\n",
    "self.windows = windows\n",
    " \n",
    "self.x = 0\n",
    " \n",
    "# title\n",
    "self.title = Label(windows, text=\"Bookings\", font=('arial 60 bold'), fg='green')\n",
    "self.title.place(x=350, y=0)\n",
    " \n",
    "self.replace = Button(windows, text=\"Next Booking\", width=25, height=2, bg='steelblue', command=self.function)\n",
    "self.replace.place(x=500, y=600)\n",
    " \n",
    "self.none = Label(windows, text=\"\", font=('arial 200 bold'))\n",
    "self.none.place(x=500, y=100)\n",
    " \n",
    "self.clients_name = Label(windows, text=\"\", font=('arial 80 bold'))\n",
    "self.clients_name.place(x=300, y=400)\n",
    "def function(self):\n",
    "self.none.config(text=str(no[self.x]))\n",
    "self.clients_name.config(text=str(clients[self.x]))\n",
    "voice = pyttsx3.init()\n",
    "voices = voice.getProperty('voices')\n",
    "rate = voice.getProperty('rate')\n",
    "voice.setProperty('rate', rate-50)\n",
    "voice.say('Booking number ' + str(no[self.x]) + str(clients[self.x]))\n",
    "voice.runAndWait()\n",
    "self.x += 1\n",
    "root = Tk()\n",
    "b = Application(root)\n",
    "root.geometry(\"1366x768+0+0\")\n",
    "root.resizable(False, False)\n",
    "root.mainloop()"
   ]
  }
 ],
 "metadata": {
  "kernelspec": {
   "display_name": "Python 3",
   "language": "python",
   "name": "python3"
  },
  "language_info": {
   "codemirror_mode": {
    "name": "ipython",
    "version": 3
   },
   "file_extension": ".py",
   "mimetype": "text/x-python",
   "name": "python",
   "nbconvert_exporter": "python",
   "pygments_lexer": "ipython3",
   "version": "3.8.3"
  }
 },
 "nbformat": 4,
 "nbformat_minor": 4
}
